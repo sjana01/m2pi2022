{
 "cells": [
  {
   "cell_type": "code",
   "execution_count": 10,
   "metadata": {},
   "outputs": [],
   "source": [
    "import numpy as np\n",
    "import pandas as pd\n",
    "import matplotlib.pyplot as plt\n",
    "import seaborn as sns\n",
    "\n",
    "plt.rcParams['figure.figsize'] = (16,10)"
   ]
  },
  {
   "cell_type": "markdown",
   "metadata": {},
   "source": [
    "# Car Pricing\n",
    "\n",
    "You've been given a dataset describing various features of some cars including their list price.\n",
    "\n",
    "  * https://m2pi.syzygy.ca/data/CarPrice_Assignment.csv\n",
    "\n",
    "You've been asked to explore this dataset, present some summary statistics and (hopefully) build a model for setting the list price. We've broken the problem down into 3 stages...\n",
    "\n",
    "\n",
    "### Part 1: Exploration and Cleaning\n",
    "1. Read in this data, clean and tidy it\n",
    "1. Calculate basic statistics to understand what you have been given\n",
    "1. Select some columns which might be correlated with price\n",
    "\n",
    "### Part 2: Analysis and Model Building\n",
    "1. Quantify correlations between columns\n",
    "1. Create training and testing sets\n",
    "1. Fit a pricing model\n",
    "\n",
    "### Part 3: Results\n",
    "1. Summarize your findings"
   ]
  },
  {
   "cell_type": "markdown",
   "metadata": {},
   "source": [
    "### Part 1\n",
    "\n",
    "In addition to local files, `pandas.read_csv` can ingest data from URLs (`s3` or `http`)"
   ]
  },
  {
   "cell_type": "code",
   "execution_count": 11,
   "metadata": {},
   "outputs": [],
   "source": [
    "wCSV = 'https://m2pi.syzygy.ca/data/CarPrice_Assignment.csv'\n",
    "wDF = pd.read_csv(\n",
    "    wCSV,\n",
    "    usecols=[\n",
    "        'CarName',\n",
    "        'doornumber',\n",
    "        'enginelocation',\n",
    "        'curbweight',\n",
    "        'enginesize',\n",
    "        'compressionratio',\n",
    "        'horsepower',\n",
    "        'peakrpm',\n",
    "        'price'\n",
    "    ]\n",
    ")"
   ]
  }
 ],
 "metadata": {
  "kernelspec": {
   "display_name": "Python 3 (ipykernel)",
   "language": "python",
   "name": "python3"
  },
  "language_info": {
   "codemirror_mode": {
    "name": "ipython",
    "version": 3
   },
   "file_extension": ".py",
   "mimetype": "text/x-python",
   "name": "python",
   "nbconvert_exporter": "python",
   "pygments_lexer": "ipython3",
   "version": "3.10.5"
  }
 },
 "nbformat": 4,
 "nbformat_minor": 4
}
