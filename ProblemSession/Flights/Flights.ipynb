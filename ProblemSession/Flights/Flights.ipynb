{
 "cells": [
  {
   "cell_type": "code",
   "execution_count": null,
   "id": "635ac76d-a327-434d-8622-2be7a638a5a0",
   "metadata": {},
   "outputs": [],
   "source": [
    "import pandas as pd\n",
    "import numpy as np\n"
   ]
  },
  {
   "cell_type": "code",
   "execution_count": null,
   "id": "fa807c65-71a2-4a92-826b-2b16ee301e45",
   "metadata": {},
   "outputs": [],
   "source": [
    "df = pd.read_csv('https://m2pi.syzygy.ca/data/Airlines.csv.zip', index_col='id')"
   ]
  },
  {
   "cell_type": "code",
   "execution_count": null,
   "id": "9685f715-60c6-4d61-b362-1d35acb5a22f",
   "metadata": {},
   "outputs": [],
   "source": [
    "df.columns"
   ]
  },
  {
   "cell_type": "code",
   "execution_count": null,
   "id": "ee3c0cb0-bfb0-4cf1-ad51-5f43b34e5a47",
   "metadata": {},
   "outputs": [],
   "source": [
    "df.head()"
   ]
  },
  {
   "cell_type": "code",
   "execution_count": null,
   "id": "49c71544-3028-4b68-a799-46a108c7bca1",
   "metadata": {},
   "outputs": [],
   "source": [
    "df.describe()"
   ]
  },
  {
   "cell_type": "code",
   "execution_count": null,
   "id": "81abaf99-ac61-44e9-b247-6dfb842c6178",
   "metadata": {},
   "outputs": [],
   "source": [
    "df.isna().sum()"
   ]
  },
  {
   "cell_type": "code",
   "execution_count": null,
   "id": "7226d697-401b-426d-9390-b91530e9a877",
   "metadata": {},
   "outputs": [],
   "source": [
    "df.dtypes"
   ]
  },
  {
   "cell_type": "code",
   "execution_count": null,
   "id": "fbb7db05-a4e8-4e34-a63e-d1f71b2d8fda",
   "metadata": {},
   "outputs": [],
   "source": [
    "categorical_cols = [col for col in df.columns if df[col].dtype =='object']\n",
    "categorical_cols"
   ]
  },
  {
   "cell_type": "code",
   "execution_count": null,
   "id": "e5e2538f-e779-4e65-96a8-1dd3157c86e3",
   "metadata": {},
   "outputs": [],
   "source": [
    "for category in categorical_cols:\n",
    "    print(df[category].value_counts().sort_values(ascending = False).head(10))\n"
   ]
  },
  {
   "cell_type": "markdown",
   "id": "ff47eb24-c5c5-4770-b972-ea1b1844bbe4",
   "metadata": {},
   "source": [
    "## Scale and Encode the categorical values"
   ]
  },
  {
   "cell_type": "code",
   "execution_count": null,
   "id": "395325c2-19d1-4d5f-bd54-1dc6469e7588",
   "metadata": {},
   "outputs": [],
   "source": []
  }
 ],
 "metadata": {
  "kernelspec": {
   "display_name": "Python 3 (ipykernel)",
   "language": "python",
   "name": "python3"
  },
  "language_info": {
   "codemirror_mode": {
    "name": "ipython",
    "version": 3
   },
   "file_extension": ".py",
   "mimetype": "text/x-python",
   "name": "python",
   "nbconvert_exporter": "python",
   "pygments_lexer": "ipython3",
   "version": "3.10.5"
  }
 },
 "nbformat": 4,
 "nbformat_minor": 5
}
