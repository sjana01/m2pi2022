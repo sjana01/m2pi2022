{
 "cells": [
  {
   "cell_type": "markdown",
   "metadata": {},
   "source": [
    "# Advent of Code Problems\n",
    "\n",
    "### Key Concepts & Packages\n",
    "\n",
    "The following packages and ideas are part of the python language itself. They are always available and understanding them will make your life much easier. Individually, they help solve simple problems in the most efficient way, allowing you to combine them to solve more complex problems\n",
    "\n",
    "  * [Truthy and Falsy values](https://www.freecodecamp.org/news/truthy-and-falsy-values-in-python/)\n",
    "  * [Indexing](https://towardsdatascience.com/the-basics-of-indexing-and-slicing-python-lists-2d12c90a94cf) and [numpy indexing](https://numpy.org/doc/stable/reference/arrays.indexing.html)\n",
    "  * Regular expressions [re](https://docs.python.org/3/library/re.html)\n",
    "  * Hashes and [Collections](https://docs.python.org/3/library/collections.html)\n",
    "\n",
    "\n",
    "These modules aren't part of the core python language, but they're well written and very widely used.\n",
    "\n",
    "* [Requests](https://docs.python-requests.org/en/master/) HTTP for humans\n",
    "* [Pandas](https://pandas.pydata.org/)\n",
    "* [Numpy](https://numpy.org/)\n",
    "\n",
    "There are **lots** of other python modules available as well. In general you should look for an existing python module before writing something from scratch, it'll save you a lot of work and let you focus on the interesting parts of your problem. [PyPI](https://pypi.org/) is the canonical source for many packages and integrates with the `pip` package manager. When you are looking at a new package, some of the things to consider are\n",
    "\n",
    "  1. Does it do what you need? Does it do it well?\n",
    "  1. Does it have a good support community and active development? Often the associated GitHub issue queue can help you judge this\n",
    "  \n",
    "  \n"
   ]
  },
  {
   "cell_type": "markdown",
   "metadata": {},
   "source": [
    "## Problem 1: Password Checking\n",
    "\n",
    "### Part 1\n",
    "\n",
    " * N.B. This problem is a tweak of [Advent of Code 2020 problem 2](https://adventofcode.com/2020/day/2)\n",
    "You've been given the password file for a group of users and you've been asked to validate the entries. Here are some sample entries\n",
    "\n",
    "```\n",
    "1-9 a: asjuaycbnwo\n",
    "3-7 c: qohnfbyvdvxb\n",
    "5-7 j: abnkjahajjay\n",
    "3-6 p: papvmnnapa\n",
    "1-5 n: nannanuuanyn\n",
    "```\n",
    "\n",
    "The second field with the colon represents a character that we expect to find in the password (the 3rd field). The first field represents the minimum and maximum number of occurrences of that character which are needed to satisfy our policy. For example, the first line says that the password is `asjuaycbnwo` and that we expect to find at least one to at most nine occurrences of the latter `a` in that password. Given those rules we have\n",
    "\n",
    "```\n",
    "1-9 a: asjuaycbnwo   # VALID   2 occurences of \"a\" (1 <= 2 <= 9)\n",
    "3-7 c: qohnfbyvdvxb  # INVALID 0 occurences of \"c\" (0 < 3)\n",
    "5-7 j: abnkhajajjay  # INVALID 3 occurences of \"j\" (3 < 5)\n",
    "3-6 p: papvmnnapa    # VALID   3 occurences of \"p\" (3<= 3 <= 6)\n",
    "1-5 n: nannnnuuanyn  # INVALID 7 occurences of \"n\" (7 > 5)\n",
    "```\n",
    "\n",
    "You are asked to calculate the total number of valid passwords in the file."
   ]
  },
  {
   "cell_type": "code",
   "execution_count": 3,
   "metadata": {},
   "outputs": [],
   "source": [
    "data_url = \"https://m2pi.syzygy.ca/data/day_2.txt\""
   ]
  },
  {
   "cell_type": "markdown",
   "metadata": {},
   "source": [
    "#### Pure Python Version"
   ]
  },
  {
   "cell_type": "code",
   "execution_count": 37,
   "metadata": {},
   "outputs": [
    {
     "data": {
      "text/plain": [
       "['15-19 k: kkkkkkkkkkkkzkkkkkkk',\n",
       " '1-11 s: sbssswsqsssssrlss',\n",
       " '8-9 b: pbbbbbbkbz',\n",
       " '4-10 w: wwccwcqwdmbktjrxhw',\n",
       " '1-6 x: jvscgqsnt',\n",
       " '1-7 x: xxxxxxcx',\n",
       " '6-10 s: smssssfskssdwvtcss',\n",
       " '6-12 q: qqqqzqqjqfqdqq',\n",
       " '3-7 d: ddwbzbf',\n",
       " '12-14 s: ssdssssssssmsq']"
      ]
     },
     "execution_count": 37,
     "metadata": {},
     "output_type": "execute_result"
    }
   ],
   "source": [
    "import re\n",
    "import requests\n",
    "\n",
    "try:\n",
    "    r = requests.get('https://m2pi.syzygy.ca/data/day_2.txt')\n",
    "    r.raise_for_status()\n",
    "except Exception as err:\n",
    "    print(f'Unable to retrieve passwords: {err}')\n",
    "\n",
    "lines = r.text.strip().split('\\n')\n",
    "lines[:10]"
   ]
  },
  {
   "cell_type": "code",
   "execution_count": 38,
   "metadata": {},
   "outputs": [
    {
     "name": "stdout",
     "output_type": "stream",
     "text": [
      "655 VALID passwords (345 INVALID)\n"
     ]
    }
   ],
   "source": [
    "pwre = re.compile(\n",
    "    '(?P<chmin>\\d+)-(?P<chmax>\\d+) (?P<ch>[a-z]): (?P<pw>[a-z]+)'\n",
    ")\n",
    "\n",
    "valid_pw = 0\n",
    "for line in lines:\n",
    "    m = pwre.match(line).groupdict()\n",
    "    m['chmin'], m['chmax'] = int(m['chmin']), int(m['chmax'])\n",
    "    occurrences = len(re.findall(m['ch'], m['pw']))\n",
    "    if (m['chmin'] <= occurrences <= m['chmax']):\n",
    "        valid_pw += 1\n",
    "\n",
    "print(f\"{valid_pw} VALID passwords ({len(lines) - valid_pw} INVALID)\")"
   ]
  },
  {
   "cell_type": "markdown",
   "metadata": {},
   "source": [
    "#### Pandas Version"
   ]
  },
  {
   "cell_type": "code",
   "execution_count": 39,
   "metadata": {},
   "outputs": [
    {
     "data": {
      "text/html": [
       "<div>\n",
       "<style scoped>\n",
       "    .dataframe tbody tr th:only-of-type {\n",
       "        vertical-align: middle;\n",
       "    }\n",
       "\n",
       "    .dataframe tbody tr th {\n",
       "        vertical-align: top;\n",
       "    }\n",
       "\n",
       "    .dataframe thead th {\n",
       "        text-align: right;\n",
       "    }\n",
       "</style>\n",
       "<table border=\"1\" class=\"dataframe\">\n",
       "  <thead>\n",
       "    <tr style=\"text-align: right;\">\n",
       "      <th></th>\n",
       "      <th>letter_count</th>\n",
       "      <th>letter</th>\n",
       "      <th>password</th>\n",
       "      <th>letter_min</th>\n",
       "      <th>letter_max</th>\n",
       "    </tr>\n",
       "  </thead>\n",
       "  <tbody>\n",
       "    <tr>\n",
       "      <th>0</th>\n",
       "      <td>15-19</td>\n",
       "      <td>k</td>\n",
       "      <td>kkkkkkkkkkkkzkkkkkkk</td>\n",
       "      <td>15</td>\n",
       "      <td>19</td>\n",
       "    </tr>\n",
       "    <tr>\n",
       "      <th>1</th>\n",
       "      <td>1-11</td>\n",
       "      <td>s</td>\n",
       "      <td>sbssswsqsssssrlss</td>\n",
       "      <td>1</td>\n",
       "      <td>11</td>\n",
       "    </tr>\n",
       "    <tr>\n",
       "      <th>2</th>\n",
       "      <td>8-9</td>\n",
       "      <td>b</td>\n",
       "      <td>pbbbbbbkbz</td>\n",
       "      <td>8</td>\n",
       "      <td>9</td>\n",
       "    </tr>\n",
       "    <tr>\n",
       "      <th>3</th>\n",
       "      <td>4-10</td>\n",
       "      <td>w</td>\n",
       "      <td>wwccwcqwdmbktjrxhw</td>\n",
       "      <td>4</td>\n",
       "      <td>10</td>\n",
       "    </tr>\n",
       "    <tr>\n",
       "      <th>4</th>\n",
       "      <td>1-6</td>\n",
       "      <td>x</td>\n",
       "      <td>jvscgqsnt</td>\n",
       "      <td>1</td>\n",
       "      <td>6</td>\n",
       "    </tr>\n",
       "  </tbody>\n",
       "</table>\n",
       "</div>"
      ],
      "text/plain": [
       "  letter_count letter              password  letter_min  letter_max\n",
       "0        15-19      k  kkkkkkkkkkkkzkkkkkkk          15          19\n",
       "1         1-11      s     sbssswsqsssssrlss           1          11\n",
       "2          8-9      b            pbbbbbbkbz           8           9\n",
       "3         4-10      w    wwccwcqwdmbktjrxhw           4          10\n",
       "4          1-6      x             jvscgqsnt           1           6"
      ]
     },
     "execution_count": 39,
     "metadata": {},
     "output_type": "execute_result"
    }
   ],
   "source": [
    "import pandas as pd\n",
    "\n",
    "df = pd.read_csv(\n",
    "    data_url,\n",
    "    delimiter=' ',\n",
    "    names=['letter_count', 'letter', 'password']\n",
    ")\n",
    "df['letter'] = df['letter'].str.replace(':','')\n",
    "df[['letter_min', 'letter_max']] = df['letter_count'].str.split('-', expand=True).astype(int)\n",
    "df.head()"
   ]
  },
  {
   "cell_type": "code",
   "execution_count": 40,
   "metadata": {},
   "outputs": [],
   "source": [
    "def valid_password(password, c, min_c, max_c):\n",
    "    return (min_c <= password.count(c)) and (password.count(c) <= max_c)"
   ]
  },
  {
   "cell_type": "code",
   "execution_count": 41,
   "metadata": {},
   "outputs": [
    {
     "data": {
      "text/plain": [
       "655"
      ]
     },
     "execution_count": 41,
     "metadata": {},
     "output_type": "execute_result"
    }
   ],
   "source": [
    "df.apply(lambda x: valid_password(x['password'], x['letter'], x['letter_min'], x['letter_max']), axis=1).sum()"
   ]
  },
  {
   "cell_type": "markdown",
   "metadata": {},
   "source": [
    "### Part 2\n",
    "\n",
    "Part two of this problem says that the schema was misinterpreted in part 1. Actually, the first token on each line should be interpretated as positions in the password string (indexed from 1!) and that the given character should occur **exactly** once in those positions. Recycling our examples from above\n",
    "\n",
    "```\n",
    "1-9 a: asjuaycbnwo  # VALID \"a\" occurs in position 1\n",
    "3-7 c: qohnfbyvdvxb # INVALID \"c\" does not occur in position 3 or 7\n",
    "5-7 j: abnkhajajjay # VALID \"j\" occurs in position 5\n",
    "3-6 p: papvmnnapa   # VALID \"p\" occurs in position 3\n",
    "1-5 n: nannnnuuanyn # INVALID \"n\" occurs in position 1 and position 5\n",
    "```"
   ]
  },
  {
   "cell_type": "markdown",
   "metadata": {},
   "source": [
    "#### Pure Python Version"
   ]
  },
  {
   "cell_type": "code",
   "execution_count": 43,
   "metadata": {},
   "outputs": [
    {
     "name": "stdout",
     "output_type": "stream",
     "text": [
      "673 VALID passwords (327 INVALID)\n"
     ]
    }
   ],
   "source": [
    "lines = r.text.strip().split('\\n')\n",
    "lines[:10]\n",
    "valid_pw = 0\n",
    "for line in lines:\n",
    "    chmin, chmax, ch, pw = pwre.match(line).groups()\n",
    "    chmin, chmax = int(chmin), int(chmax)\n",
    "    if (pw[chmin - 1] == ch) ^ (pw[chmax - 1] == ch):\n",
    "        valid_pw += 1\n",
    "        \n",
    "print(f\"{valid_pw} VALID passwords ({len(lines) - valid_pw} INVALID)\")"
   ]
  },
  {
   "cell_type": "markdown",
   "metadata": {},
   "source": [
    "#### Pandas Version"
   ]
  },
  {
   "cell_type": "code",
   "execution_count": 44,
   "metadata": {},
   "outputs": [],
   "source": [
    "def validate_password(pw, c, pos1, pos2):\n",
    "    return (pw[pos1 - 1] == c) ^ (pw[pos2 - 1] == c)"
   ]
  },
  {
   "cell_type": "code",
   "execution_count": 45,
   "metadata": {},
   "outputs": [
    {
     "data": {
      "text/plain": [
       "673"
      ]
     },
     "execution_count": 45,
     "metadata": {},
     "output_type": "execute_result"
    }
   ],
   "source": [
    "df.apply(\n",
    "    lambda x: validate_password(x.password, x.letter, x.letter_min, x.letter_max\n",
    "), axis=1).sum()"
   ]
  },
  {
   "cell_type": "markdown",
   "metadata": {},
   "source": [
    "**N.B. This is a trick question. The correct answer is that these passwords are all given in plain text which should never ever happen so they are all invalid!**"
   ]
  },
  {
   "cell_type": "markdown",
   "metadata": {},
   "source": [
    "## Problem 2\n",
    "\n",
    "In this problem, people are asked to answer yes or no to a list of 26 questions (labeled 'a', 'b', ... 'z'). The responses are recorded by noting down the label of each question for which the response was \"yes\". For example, responses for three people might look like\n",
    "```\n",
    "afuy\n",
    "rz\n",
    "aypq\n",
    "```\n",
    "The first person has answered yes to questions `a`, `f`, `u` and `y`. The second has answered yes to `r` and `z` etc. We assume that everyone answered yes to at least one question.\n",
    "\n",
    "The responses of _groups_ of people will be considered with each group being separated by a single blank line. Extending our example from above...\n",
    "```\n",
    "afuy\n",
    "rz\n",
    "aypq\n",
    "\n",
    "anqvz\n",
    "\n",
    "bchklp\n",
    "bnrt\n",
    "```\n",
    "Represents 3 groups. The second group has one member and the third has two members.\n"
   ]
  },
  {
   "cell_type": "code",
   "execution_count": 46,
   "metadata": {},
   "outputs": [],
   "source": [
    "data_url = \"https://m2pi.syzygy.ca/data/day_6.txt\""
   ]
  },
  {
   "cell_type": "markdown",
   "metadata": {},
   "source": [
    "### Part 1\n",
    "\n",
    "In the first part of the problem we are asked to count the number of questions answered \"yes\" by each group. Duplicate answers are only counted once e.g. For the first group the answer should be 8 (`a` and `y` appear twice but we only count them once."
   ]
  },
  {
   "cell_type": "markdown",
   "metadata": {},
   "source": [
    "### Part 1 Answer\n",
    "\n",
    "Python collections are almost always going to be the foundation of your solution. In this case, sets do what we want to do (throw away duplicate entries).\n",
    "\n",
    " * Split entries into groups\n",
    " * Find answered questions without duplicates"
   ]
  },
  {
   "cell_type": "code",
   "execution_count": null,
   "metadata": {},
   "outputs": [],
   "source": [
    "import re\n",
    "import requests\n",
    "\n",
    "try:\n",
    "    r = requests.get('https://m2pi.syzygy.ca/data/day_6.txt')\n",
    "    r.raise_for_status()\n",
    "except Exception as err:\n",
    "    print(f'Unable to retrieve passwords: {err}')\n",
    "\n",
    "group_answers = r.text.strip().split('\\n\\n')\n",
    "group_answers[:10]"
   ]
  },
  {
   "cell_type": "code",
   "execution_count": 53,
   "metadata": {},
   "outputs": [
    {
     "name": "stdout",
     "output_type": "stream",
     "text": [
      "673 VALID passwords (327 INVALID)\n"
     ]
    }
   ],
   "source": [
    "valid_pw = 0\n",
    "for line in lines:\n",
    "    chmin, chmax, ch, pw = pwre.match(line).groups()\n",
    "    chmin, chmax = int(chmin), int(chmax)\n",
    "    if (pw[chmin - 1] == ch) ^ (pw[chmax - 1] == ch):\n",
    "        valid_pw += 1\n",
    "        \n",
    "print(f\"{valid_pw} VALID passwords ({len(lines) - valid_pw} INVALID)\")"
   ]
  },
  {
   "cell_type": "markdown",
   "metadata": {},
   "source": [
    "### Part 2\n",
    "\n",
    "In part 2 of this problem, we are told to count the total number of questions for which all participants in a group answered yes. For our example\n",
    "above...\n",
    "```\n",
    "afuy\n",
    "rz\n",
    "aypq\n",
    "\n",
    "anqvz\n",
    "\n",
    "bchklp\n",
    "bnrt\n",
    "```\n",
    "The total for the first group would be 0 (no letter appears in all three lines). The total for the second group would be 5 because the group size is 1 `a`, `n`, `q`, `v`, `z` all appear once. The total for the third group would be 1 since `b` is the only letter which appears on all lines."
   ]
  },
  {
   "cell_type": "markdown",
   "metadata": {},
   "source": [
    "### Part 2 Answer\n",
    "\n",
    "The collections module in the python standard library has lots of fantastic features. For this problem the `Counter` object behaves like the `set` from above, but keeps track of exactly how many of each object have been seen before."
   ]
  },
  {
   "cell_type": "markdown",
   "metadata": {},
   "source": [
    "#### Pure Python Version"
   ]
  },
  {
   "cell_type": "code",
   "execution_count": 54,
   "metadata": {},
   "outputs": [
    {
     "name": "stdout",
     "output_type": "stream",
     "text": [
      "3103 questions where all group memebers answered YES\n"
     ]
    }
   ],
   "source": [
    "from collections import Counter\n",
    "\n",
    "all_yes = 0\n",
    "for answers in group_answers:\n",
    "    all_yes += sum([x == len(answers.strip().split('\\n')) for x in Counter(answers.replace('\\n','')).values()])\n",
    "    \n",
    "print(f\"{all_yes} questions where all group memebers answered YES\")"
   ]
  },
  {
   "cell_type": "markdown",
   "metadata": {},
   "source": [
    "##### Pandas Version"
   ]
  },
  {
   "cell_type": "code",
   "execution_count": 55,
   "metadata": {},
   "outputs": [],
   "source": [
    "def count_yes(responses):\n",
    "    return sum([x == len(responses.strip().split('\\n')) for x in Counter(responses.replace('\\n', '')).values()])"
   ]
  },
  {
   "cell_type": "code",
   "execution_count": 56,
   "metadata": {},
   "outputs": [
    {
     "data": {
      "text/plain": [
       "10"
      ]
     },
     "execution_count": 56,
     "metadata": {},
     "output_type": "execute_result"
    }
   ],
   "source": [
    "count_yes(answers)"
   ]
  },
  {
   "cell_type": "code",
   "execution_count": 57,
   "metadata": {},
   "outputs": [
    {
     "data": {
      "text/plain": [
       "3103"
      ]
     },
     "execution_count": 57,
     "metadata": {},
     "output_type": "execute_result"
    }
   ],
   "source": [
    "df['everyone_yes'] = df.apply(lambda x: count_yes(x.answers), axis=1)\n",
    "df['everyone_yes'].sum()"
   ]
  }
 ],
 "metadata": {
  "kernelspec": {
   "display_name": "Python 3 (ipykernel)",
   "language": "python",
   "name": "python3"
  },
  "language_info": {
   "codemirror_mode": {
    "name": "ipython",
    "version": 3
   },
   "file_extension": ".py",
   "mimetype": "text/x-python",
   "name": "python",
   "nbconvert_exporter": "python",
   "pygments_lexer": "ipython3",
   "version": "3.10.5"
  }
 },
 "nbformat": 4,
 "nbformat_minor": 4
}
